{
 "cells": [
  {
   "cell_type": "code",
   "execution_count": 1,
   "id": "9ef5ffdd",
   "metadata": {
    "_cell_guid": "b1076dfc-b9ad-4769-8c92-a6c4dae69d19",
    "_uuid": "8f2839f25d086af736a60e9eeb907d3b93b6e0e5",
    "execution": {
     "iopub.execute_input": "2024-03-09T17:28:23.604581Z",
     "iopub.status.busy": "2024-03-09T17:28:23.603642Z",
     "iopub.status.idle": "2024-03-09T17:28:24.348655Z",
     "shell.execute_reply": "2024-03-09T17:28:24.347606Z"
    },
    "papermill": {
     "duration": 0.757009,
     "end_time": "2024-03-09T17:28:24.351013",
     "exception": false,
     "start_time": "2024-03-09T17:28:23.594004",
     "status": "completed"
    },
    "tags": []
   },
   "outputs": [
    {
     "name": "stdout",
     "output_type": "stream",
     "text": [
      "/kaggle/input/electronics-products-amazon-10k-items/electronics_product.csv\n"
     ]
    }
   ],
   "source": [
    "# This Python 3 environment comes with many helpful analytics libraries installed\n",
    "# It is defined by the kaggle/python Docker image: https://github.com/kaggle/docker-python\n",
    "# For example, here's several helpful packages to load\n",
    "\n",
    "import numpy as np # linear algebra\n",
    "import pandas as pd # data processing, CSV file I/O (e.g. pd.read_csv)\n",
    "\n",
    "# Input data files are available in the read-only \"../input/\" directory\n",
    "# For example, running this (by clicking run or pressing Shift+Enter) will list all files under the input directory\n",
    "\n",
    "import os\n",
    "for dirname, _, filenames in os.walk('/kaggle/input'):\n",
    "    for filename in filenames:\n",
    "        print(os.path.join(dirname, filename))\n",
    "\n",
    "# You can write up to 20GB to the current directory (/kaggle/working/) that gets preserved as output when you create a version using \"Save & Run All\" \n",
    "# You can also write temporary files to /kaggle/temp/, but they won't be saved outside of the current session"
   ]
  },
  {
   "cell_type": "code",
   "execution_count": 2,
   "id": "aa0e2d21",
   "metadata": {
    "execution": {
     "iopub.execute_input": "2024-03-09T17:28:24.369328Z",
     "iopub.status.busy": "2024-03-09T17:28:24.368593Z",
     "iopub.status.idle": "2024-03-09T17:28:24.513829Z",
     "shell.execute_reply": "2024-03-09T17:28:24.512773Z"
    },
    "papermill": {
     "duration": 0.158027,
     "end_time": "2024-03-09T17:28:24.517224",
     "exception": false,
     "start_time": "2024-03-09T17:28:24.359197",
     "status": "completed"
    },
    "tags": []
   },
   "outputs": [
    {
     "data": {
      "text/html": [
       "<div>\n",
       "<style scoped>\n",
       "    .dataframe tbody tr th:only-of-type {\n",
       "        vertical-align: middle;\n",
       "    }\n",
       "\n",
       "    .dataframe tbody tr th {\n",
       "        vertical-align: top;\n",
       "    }\n",
       "\n",
       "    .dataframe thead th {\n",
       "        text-align: right;\n",
       "    }\n",
       "</style>\n",
       "<table border=\"1\" class=\"dataframe\">\n",
       "  <thead>\n",
       "    <tr style=\"text-align: right;\">\n",
       "      <th></th>\n",
       "      <th>Unnamed: 0</th>\n",
       "      <th>name</th>\n",
       "      <th>main_category</th>\n",
       "      <th>sub_category</th>\n",
       "      <th>image</th>\n",
       "      <th>link</th>\n",
       "      <th>ratings</th>\n",
       "      <th>no_of_ratings</th>\n",
       "      <th>discount_price</th>\n",
       "      <th>actual_price</th>\n",
       "    </tr>\n",
       "  </thead>\n",
       "  <tbody>\n",
       "    <tr>\n",
       "      <th>0</th>\n",
       "      <td>0</td>\n",
       "      <td>Redmi 10 Power (Power Black, 8GB RAM, 128GB St...</td>\n",
       "      <td>tv, audio &amp; cameras</td>\n",
       "      <td>All Electronics</td>\n",
       "      <td>https://m.media-amazon.com/images/I/81eM15lVcJ...</td>\n",
       "      <td>https://www.amazon.in/Redmi-Power-Black-128GB-...</td>\n",
       "      <td>4.0</td>\n",
       "      <td>965</td>\n",
       "      <td>₹10,999</td>\n",
       "      <td>₹18,999</td>\n",
       "    </tr>\n",
       "    <tr>\n",
       "      <th>1</th>\n",
       "      <td>1</td>\n",
       "      <td>OnePlus Nord CE 2 Lite 5G (Blue Tide, 6GB RAM,...</td>\n",
       "      <td>tv, audio &amp; cameras</td>\n",
       "      <td>All Electronics</td>\n",
       "      <td>https://m.media-amazon.com/images/I/71AvQd3Vzq...</td>\n",
       "      <td>https://www.amazon.in/OnePlus-Nord-Lite-128GB-...</td>\n",
       "      <td>4.3</td>\n",
       "      <td>113,956</td>\n",
       "      <td>₹18,999</td>\n",
       "      <td>₹19,999</td>\n",
       "    </tr>\n",
       "    <tr>\n",
       "      <th>2</th>\n",
       "      <td>2</td>\n",
       "      <td>OnePlus Bullets Z2 Bluetooth Wireless in Ear E...</td>\n",
       "      <td>tv, audio &amp; cameras</td>\n",
       "      <td>All Electronics</td>\n",
       "      <td>https://m.media-amazon.com/images/I/51UhwaQXCp...</td>\n",
       "      <td>https://www.amazon.in/Oneplus-Bluetooth-Wirele...</td>\n",
       "      <td>4.2</td>\n",
       "      <td>90,304</td>\n",
       "      <td>₹1,999</td>\n",
       "      <td>₹2,299</td>\n",
       "    </tr>\n",
       "    <tr>\n",
       "      <th>3</th>\n",
       "      <td>3</td>\n",
       "      <td>Samsung Galaxy M33 5G (Mystique Green, 6GB, 12...</td>\n",
       "      <td>tv, audio &amp; cameras</td>\n",
       "      <td>All Electronics</td>\n",
       "      <td>https://m.media-amazon.com/images/I/81I3w4J6yj...</td>\n",
       "      <td>https://www.amazon.in/Samsung-Mystique-Storage...</td>\n",
       "      <td>4.1</td>\n",
       "      <td>24,863</td>\n",
       "      <td>₹15,999</td>\n",
       "      <td>₹24,999</td>\n",
       "    </tr>\n",
       "    <tr>\n",
       "      <th>4</th>\n",
       "      <td>4</td>\n",
       "      <td>OnePlus Nord CE 2 Lite 5G (Black Dusk, 6GB RAM...</td>\n",
       "      <td>tv, audio &amp; cameras</td>\n",
       "      <td>All Electronics</td>\n",
       "      <td>https://m.media-amazon.com/images/I/71V--WZVUI...</td>\n",
       "      <td>https://www.amazon.in/OnePlus-Nord-Black-128GB...</td>\n",
       "      <td>4.3</td>\n",
       "      <td>113,956</td>\n",
       "      <td>₹18,999</td>\n",
       "      <td>₹19,999</td>\n",
       "    </tr>\n",
       "  </tbody>\n",
       "</table>\n",
       "</div>"
      ],
      "text/plain": [
       "   Unnamed: 0                                               name  \\\n",
       "0           0  Redmi 10 Power (Power Black, 8GB RAM, 128GB St...   \n",
       "1           1  OnePlus Nord CE 2 Lite 5G (Blue Tide, 6GB RAM,...   \n",
       "2           2  OnePlus Bullets Z2 Bluetooth Wireless in Ear E...   \n",
       "3           3  Samsung Galaxy M33 5G (Mystique Green, 6GB, 12...   \n",
       "4           4  OnePlus Nord CE 2 Lite 5G (Black Dusk, 6GB RAM...   \n",
       "\n",
       "         main_category     sub_category  \\\n",
       "0  tv, audio & cameras  All Electronics   \n",
       "1  tv, audio & cameras  All Electronics   \n",
       "2  tv, audio & cameras  All Electronics   \n",
       "3  tv, audio & cameras  All Electronics   \n",
       "4  tv, audio & cameras  All Electronics   \n",
       "\n",
       "                                               image  \\\n",
       "0  https://m.media-amazon.com/images/I/81eM15lVcJ...   \n",
       "1  https://m.media-amazon.com/images/I/71AvQd3Vzq...   \n",
       "2  https://m.media-amazon.com/images/I/51UhwaQXCp...   \n",
       "3  https://m.media-amazon.com/images/I/81I3w4J6yj...   \n",
       "4  https://m.media-amazon.com/images/I/71V--WZVUI...   \n",
       "\n",
       "                                                link ratings no_of_ratings  \\\n",
       "0  https://www.amazon.in/Redmi-Power-Black-128GB-...     4.0           965   \n",
       "1  https://www.amazon.in/OnePlus-Nord-Lite-128GB-...     4.3       113,956   \n",
       "2  https://www.amazon.in/Oneplus-Bluetooth-Wirele...     4.2        90,304   \n",
       "3  https://www.amazon.in/Samsung-Mystique-Storage...     4.1        24,863   \n",
       "4  https://www.amazon.in/OnePlus-Nord-Black-128GB...     4.3       113,956   \n",
       "\n",
       "  discount_price actual_price  \n",
       "0        ₹10,999      ₹18,999  \n",
       "1        ₹18,999      ₹19,999  \n",
       "2         ₹1,999       ₹2,299  \n",
       "3        ₹15,999      ₹24,999  \n",
       "4        ₹18,999      ₹19,999  "
      ]
     },
     "execution_count": 2,
     "metadata": {},
     "output_type": "execute_result"
    }
   ],
   "source": [
    "df  = pd.read_csv(\"/kaggle/input/electronics-products-amazon-10k-items/electronics_product.csv\")\n",
    "df.head()"
   ]
  },
  {
   "cell_type": "code",
   "execution_count": 3,
   "id": "78b18e26",
   "metadata": {
    "execution": {
     "iopub.execute_input": "2024-03-09T17:28:24.536805Z",
     "iopub.status.busy": "2024-03-09T17:28:24.536409Z",
     "iopub.status.idle": "2024-03-09T17:28:24.563139Z",
     "shell.execute_reply": "2024-03-09T17:28:24.562074Z"
    },
    "papermill": {
     "duration": 0.039176,
     "end_time": "2024-03-09T17:28:24.565650",
     "exception": false,
     "start_time": "2024-03-09T17:28:24.526474",
     "status": "completed"
    },
    "tags": []
   },
   "outputs": [
    {
     "name": "stdout",
     "output_type": "stream",
     "text": [
      "<class 'pandas.core.frame.DataFrame'>\n",
      "RangeIndex: 9600 entries, 0 to 9599\n",
      "Data columns (total 10 columns):\n",
      " #   Column          Non-Null Count  Dtype \n",
      "---  ------          --------------  ----- \n",
      " 0   Unnamed: 0      9600 non-null   int64 \n",
      " 1   name            9600 non-null   object\n",
      " 2   main_category   9600 non-null   object\n",
      " 3   sub_category    9600 non-null   object\n",
      " 4   image           9600 non-null   object\n",
      " 5   link            9600 non-null   object\n",
      " 6   ratings         9505 non-null   object\n",
      " 7   no_of_ratings   9505 non-null   object\n",
      " 8   discount_price  9116 non-null   object\n",
      " 9   actual_price    9530 non-null   object\n",
      "dtypes: int64(1), object(9)\n",
      "memory usage: 750.1+ KB\n"
     ]
    }
   ],
   "source": [
    "df.info()"
   ]
  },
  {
   "cell_type": "code",
   "execution_count": 4,
   "id": "01d758c6",
   "metadata": {
    "execution": {
     "iopub.execute_input": "2024-03-09T17:28:24.583802Z",
     "iopub.status.busy": "2024-03-09T17:28:24.582871Z",
     "iopub.status.idle": "2024-03-09T17:28:24.594601Z",
     "shell.execute_reply": "2024-03-09T17:28:24.593415Z"
    },
    "papermill": {
     "duration": 0.02269,
     "end_time": "2024-03-09T17:28:24.596572",
     "exception": false,
     "start_time": "2024-03-09T17:28:24.573882",
     "status": "completed"
    },
    "tags": []
   },
   "outputs": [
    {
     "name": "stdout",
     "output_type": "stream",
     "text": [
      "Missing Values in Each Column:\n",
      "Unnamed: 0          0\n",
      "name                0\n",
      "main_category       0\n",
      "sub_category        0\n",
      "image               0\n",
      "link                0\n",
      "ratings            95\n",
      "no_of_ratings      95\n",
      "discount_price    484\n",
      "actual_price       70\n",
      "dtype: int64\n"
     ]
    }
   ],
   "source": [
    "# Check for missing values in the entire dataset\n",
    "missing_values = df.isnull().sum()\n",
    "\n",
    "# Print or visualize the results\n",
    "print(\"Missing Values in Each Column:\")\n",
    "print(missing_values)"
   ]
  },
  {
   "cell_type": "code",
   "execution_count": 5,
   "id": "a3268f40",
   "metadata": {
    "execution": {
     "iopub.execute_input": "2024-03-09T17:28:24.614463Z",
     "iopub.status.busy": "2024-03-09T17:28:24.613850Z",
     "iopub.status.idle": "2024-03-09T17:28:24.625461Z",
     "shell.execute_reply": "2024-03-09T17:28:24.624556Z"
    },
    "papermill": {
     "duration": 0.022958,
     "end_time": "2024-03-09T17:28:24.627631",
     "exception": false,
     "start_time": "2024-03-09T17:28:24.604673",
     "status": "completed"
    },
    "tags": []
   },
   "outputs": [
    {
     "name": "stdout",
     "output_type": "stream",
     "text": [
      "0    18,999\n",
      "1    19,999\n",
      "2     2,299\n",
      "3    24,999\n",
      "4    19,999\n",
      "Name: actual_price, dtype: object\n"
     ]
    }
   ],
   "source": [
    "# Remove the \"₹\" symbol from 'actual_price'\n",
    "df['actual_price'] = df['actual_price'].str.replace('₹', '')\n",
    "\n",
    "# Print the first few rows of the 'actual_price' column after removal\n",
    "print(df['actual_price'].head())"
   ]
  },
  {
   "cell_type": "code",
   "execution_count": 6,
   "id": "5b44ae66",
   "metadata": {
    "execution": {
     "iopub.execute_input": "2024-03-09T17:28:24.646036Z",
     "iopub.status.busy": "2024-03-09T17:28:24.645244Z",
     "iopub.status.idle": "2024-03-09T17:28:24.658801Z",
     "shell.execute_reply": "2024-03-09T17:28:24.658089Z"
    },
    "papermill": {
     "duration": 0.024828,
     "end_time": "2024-03-09T17:28:24.660797",
     "exception": false,
     "start_time": "2024-03-09T17:28:24.635969",
     "status": "completed"
    },
    "tags": []
   },
   "outputs": [],
   "source": [
    "# Remove non-numeric characters\n",
    "df['actual_price'] = df['actual_price'].replace('[^0-9.]', '', regex=True)"
   ]
  },
  {
   "cell_type": "code",
   "execution_count": 7,
   "id": "bf18984d",
   "metadata": {
    "execution": {
     "iopub.execute_input": "2024-03-09T17:28:24.679524Z",
     "iopub.status.busy": "2024-03-09T17:28:24.678881Z",
     "iopub.status.idle": "2024-03-09T17:28:24.693574Z",
     "shell.execute_reply": "2024-03-09T17:28:24.692212Z"
    },
    "papermill": {
     "duration": 0.026284,
     "end_time": "2024-03-09T17:28:24.695568",
     "exception": false,
     "start_time": "2024-03-09T17:28:24.669284",
     "status": "completed"
    },
    "tags": []
   },
   "outputs": [
    {
     "name": "stdout",
     "output_type": "stream",
     "text": [
      "0    18999.0\n",
      "1    19999.0\n",
      "2     2299.0\n",
      "3    24999.0\n",
      "4    19999.0\n",
      "Name: actual_price, dtype: float64\n"
     ]
    }
   ],
   "source": [
    "df['actual_price'] = pd.to_numeric(df['actual_price'], errors='coerce')\n",
    "print(df['actual_price'].head())"
   ]
  },
  {
   "cell_type": "code",
   "execution_count": 8,
   "id": "3bf723d7",
   "metadata": {
    "execution": {
     "iopub.execute_input": "2024-03-09T17:28:24.714544Z",
     "iopub.status.busy": "2024-03-09T17:28:24.714208Z",
     "iopub.status.idle": "2024-03-09T17:28:24.723407Z",
     "shell.execute_reply": "2024-03-09T17:28:24.722295Z"
    },
    "papermill": {
     "duration": 0.020658,
     "end_time": "2024-03-09T17:28:24.725388",
     "exception": false,
     "start_time": "2024-03-09T17:28:24.704730",
     "status": "completed"
    },
    "tags": []
   },
   "outputs": [
    {
     "data": {
      "text/plain": [
       "0       18999.0\n",
       "1       19999.0\n",
       "2        2299.0\n",
       "3       24999.0\n",
       "4       19999.0\n",
       "         ...   \n",
       "9595     2491.0\n",
       "9596     1999.0\n",
       "9597     3999.0\n",
       "9598     1000.0\n",
       "9599     1120.0\n",
       "Name: actual_price, Length: 9600, dtype: float64"
      ]
     },
     "execution_count": 8,
     "metadata": {},
     "output_type": "execute_result"
    }
   ],
   "source": [
    "df['actual_price'].fillna(0)"
   ]
  },
  {
   "cell_type": "code",
   "execution_count": 9,
   "id": "fc612e6a",
   "metadata": {
    "execution": {
     "iopub.execute_input": "2024-03-09T17:28:24.743940Z",
     "iopub.status.busy": "2024-03-09T17:28:24.743291Z",
     "iopub.status.idle": "2024-03-09T17:28:24.748611Z",
     "shell.execute_reply": "2024-03-09T17:28:24.747969Z"
    },
    "papermill": {
     "duration": 0.016787,
     "end_time": "2024-03-09T17:28:24.750577",
     "exception": false,
     "start_time": "2024-03-09T17:28:24.733790",
     "status": "completed"
    },
    "tags": []
   },
   "outputs": [],
   "source": [
    "exchange_rate = 187.80\n",
    "\n",
    "# Convert 'actual_price' from INR to IDR\n",
    "df['actual_price_idr'] = df['actual_price'] * exchange_rate"
   ]
  },
  {
   "cell_type": "code",
   "execution_count": 10,
   "id": "3c36f5a6",
   "metadata": {
    "execution": {
     "iopub.execute_input": "2024-03-09T17:28:24.769092Z",
     "iopub.status.busy": "2024-03-09T17:28:24.768496Z",
     "iopub.status.idle": "2024-03-09T17:28:24.777340Z",
     "shell.execute_reply": "2024-03-09T17:28:24.776360Z"
    },
    "papermill": {
     "duration": 0.020743,
     "end_time": "2024-03-09T17:28:24.779691",
     "exception": false,
     "start_time": "2024-03-09T17:28:24.758948",
     "status": "completed"
    },
    "tags": []
   },
   "outputs": [],
   "source": [
    "df.drop('actual_price', axis=1, inplace=True)"
   ]
  },
  {
   "cell_type": "code",
   "execution_count": 11,
   "id": "b5c46b46",
   "metadata": {
    "execution": {
     "iopub.execute_input": "2024-03-09T17:28:24.798380Z",
     "iopub.status.busy": "2024-03-09T17:28:24.798036Z",
     "iopub.status.idle": "2024-03-09T17:28:24.804147Z",
     "shell.execute_reply": "2024-03-09T17:28:24.803220Z"
    },
    "papermill": {
     "duration": 0.017581,
     "end_time": "2024-03-09T17:28:24.806038",
     "exception": false,
     "start_time": "2024-03-09T17:28:24.788457",
     "status": "completed"
    },
    "tags": []
   },
   "outputs": [],
   "source": [
    "# Round the 'actual_price_idr' column to the nearest whole number and replace NaN with 0\n",
    "df['actual_price_idr'] = df['actual_price_idr'].round(0).fillna(0).astype(int)"
   ]
  },
  {
   "cell_type": "code",
   "execution_count": 12,
   "id": "d9adcbdc",
   "metadata": {
    "execution": {
     "iopub.execute_input": "2024-03-09T17:28:24.824423Z",
     "iopub.status.busy": "2024-03-09T17:28:24.823907Z",
     "iopub.status.idle": "2024-03-09T17:28:24.837485Z",
     "shell.execute_reply": "2024-03-09T17:28:24.836528Z"
    },
    "papermill": {
     "duration": 0.024982,
     "end_time": "2024-03-09T17:28:24.839491",
     "exception": false,
     "start_time": "2024-03-09T17:28:24.814509",
     "status": "completed"
    },
    "tags": []
   },
   "outputs": [
    {
     "data": {
      "text/html": [
       "<div>\n",
       "<style scoped>\n",
       "    .dataframe tbody tr th:only-of-type {\n",
       "        vertical-align: middle;\n",
       "    }\n",
       "\n",
       "    .dataframe tbody tr th {\n",
       "        vertical-align: top;\n",
       "    }\n",
       "\n",
       "    .dataframe thead th {\n",
       "        text-align: right;\n",
       "    }\n",
       "</style>\n",
       "<table border=\"1\" class=\"dataframe\">\n",
       "  <thead>\n",
       "    <tr style=\"text-align: right;\">\n",
       "      <th></th>\n",
       "      <th>Unnamed: 0</th>\n",
       "      <th>name</th>\n",
       "      <th>main_category</th>\n",
       "      <th>sub_category</th>\n",
       "      <th>image</th>\n",
       "      <th>link</th>\n",
       "      <th>ratings</th>\n",
       "      <th>no_of_ratings</th>\n",
       "      <th>discount_price</th>\n",
       "      <th>actual_price_idr</th>\n",
       "    </tr>\n",
       "  </thead>\n",
       "  <tbody>\n",
       "    <tr>\n",
       "      <th>0</th>\n",
       "      <td>0</td>\n",
       "      <td>Redmi 10 Power (Power Black, 8GB RAM, 128GB St...</td>\n",
       "      <td>tv, audio &amp; cameras</td>\n",
       "      <td>All Electronics</td>\n",
       "      <td>https://m.media-amazon.com/images/I/81eM15lVcJ...</td>\n",
       "      <td>https://www.amazon.in/Redmi-Power-Black-128GB-...</td>\n",
       "      <td>4.0</td>\n",
       "      <td>965</td>\n",
       "      <td>₹10,999</td>\n",
       "      <td>3568012</td>\n",
       "    </tr>\n",
       "    <tr>\n",
       "      <th>1</th>\n",
       "      <td>1</td>\n",
       "      <td>OnePlus Nord CE 2 Lite 5G (Blue Tide, 6GB RAM,...</td>\n",
       "      <td>tv, audio &amp; cameras</td>\n",
       "      <td>All Electronics</td>\n",
       "      <td>https://m.media-amazon.com/images/I/71AvQd3Vzq...</td>\n",
       "      <td>https://www.amazon.in/OnePlus-Nord-Lite-128GB-...</td>\n",
       "      <td>4.3</td>\n",
       "      <td>113,956</td>\n",
       "      <td>₹18,999</td>\n",
       "      <td>3755812</td>\n",
       "    </tr>\n",
       "    <tr>\n",
       "      <th>2</th>\n",
       "      <td>2</td>\n",
       "      <td>OnePlus Bullets Z2 Bluetooth Wireless in Ear E...</td>\n",
       "      <td>tv, audio &amp; cameras</td>\n",
       "      <td>All Electronics</td>\n",
       "      <td>https://m.media-amazon.com/images/I/51UhwaQXCp...</td>\n",
       "      <td>https://www.amazon.in/Oneplus-Bluetooth-Wirele...</td>\n",
       "      <td>4.2</td>\n",
       "      <td>90,304</td>\n",
       "      <td>₹1,999</td>\n",
       "      <td>431752</td>\n",
       "    </tr>\n",
       "    <tr>\n",
       "      <th>3</th>\n",
       "      <td>3</td>\n",
       "      <td>Samsung Galaxy M33 5G (Mystique Green, 6GB, 12...</td>\n",
       "      <td>tv, audio &amp; cameras</td>\n",
       "      <td>All Electronics</td>\n",
       "      <td>https://m.media-amazon.com/images/I/81I3w4J6yj...</td>\n",
       "      <td>https://www.amazon.in/Samsung-Mystique-Storage...</td>\n",
       "      <td>4.1</td>\n",
       "      <td>24,863</td>\n",
       "      <td>₹15,999</td>\n",
       "      <td>4694812</td>\n",
       "    </tr>\n",
       "    <tr>\n",
       "      <th>4</th>\n",
       "      <td>4</td>\n",
       "      <td>OnePlus Nord CE 2 Lite 5G (Black Dusk, 6GB RAM...</td>\n",
       "      <td>tv, audio &amp; cameras</td>\n",
       "      <td>All Electronics</td>\n",
       "      <td>https://m.media-amazon.com/images/I/71V--WZVUI...</td>\n",
       "      <td>https://www.amazon.in/OnePlus-Nord-Black-128GB...</td>\n",
       "      <td>4.3</td>\n",
       "      <td>113,956</td>\n",
       "      <td>₹18,999</td>\n",
       "      <td>3755812</td>\n",
       "    </tr>\n",
       "  </tbody>\n",
       "</table>\n",
       "</div>"
      ],
      "text/plain": [
       "   Unnamed: 0                                               name  \\\n",
       "0           0  Redmi 10 Power (Power Black, 8GB RAM, 128GB St...   \n",
       "1           1  OnePlus Nord CE 2 Lite 5G (Blue Tide, 6GB RAM,...   \n",
       "2           2  OnePlus Bullets Z2 Bluetooth Wireless in Ear E...   \n",
       "3           3  Samsung Galaxy M33 5G (Mystique Green, 6GB, 12...   \n",
       "4           4  OnePlus Nord CE 2 Lite 5G (Black Dusk, 6GB RAM...   \n",
       "\n",
       "         main_category     sub_category  \\\n",
       "0  tv, audio & cameras  All Electronics   \n",
       "1  tv, audio & cameras  All Electronics   \n",
       "2  tv, audio & cameras  All Electronics   \n",
       "3  tv, audio & cameras  All Electronics   \n",
       "4  tv, audio & cameras  All Electronics   \n",
       "\n",
       "                                               image  \\\n",
       "0  https://m.media-amazon.com/images/I/81eM15lVcJ...   \n",
       "1  https://m.media-amazon.com/images/I/71AvQd3Vzq...   \n",
       "2  https://m.media-amazon.com/images/I/51UhwaQXCp...   \n",
       "3  https://m.media-amazon.com/images/I/81I3w4J6yj...   \n",
       "4  https://m.media-amazon.com/images/I/71V--WZVUI...   \n",
       "\n",
       "                                                link ratings no_of_ratings  \\\n",
       "0  https://www.amazon.in/Redmi-Power-Black-128GB-...     4.0           965   \n",
       "1  https://www.amazon.in/OnePlus-Nord-Lite-128GB-...     4.3       113,956   \n",
       "2  https://www.amazon.in/Oneplus-Bluetooth-Wirele...     4.2        90,304   \n",
       "3  https://www.amazon.in/Samsung-Mystique-Storage...     4.1        24,863   \n",
       "4  https://www.amazon.in/OnePlus-Nord-Black-128GB...     4.3       113,956   \n",
       "\n",
       "  discount_price  actual_price_idr  \n",
       "0        ₹10,999           3568012  \n",
       "1        ₹18,999           3755812  \n",
       "2         ₹1,999            431752  \n",
       "3        ₹15,999           4694812  \n",
       "4        ₹18,999           3755812  "
      ]
     },
     "execution_count": 12,
     "metadata": {},
     "output_type": "execute_result"
    }
   ],
   "source": [
    "df.head()"
   ]
  },
  {
   "cell_type": "code",
   "execution_count": 13,
   "id": "b41d35fa",
   "metadata": {
    "execution": {
     "iopub.execute_input": "2024-03-09T17:28:24.858862Z",
     "iopub.status.busy": "2024-03-09T17:28:24.858182Z",
     "iopub.status.idle": "2024-03-09T17:28:24.869847Z",
     "shell.execute_reply": "2024-03-09T17:28:24.868479Z"
    },
    "papermill": {
     "duration": 0.023704,
     "end_time": "2024-03-09T17:28:24.871871",
     "exception": false,
     "start_time": "2024-03-09T17:28:24.848167",
     "status": "completed"
    },
    "tags": []
   },
   "outputs": [
    {
     "name": "stdout",
     "output_type": "stream",
     "text": [
      "0    10,999\n",
      "1    18,999\n",
      "2     1,999\n",
      "3    15,999\n",
      "4    18,999\n",
      "Name: discount_price, dtype: object\n"
     ]
    }
   ],
   "source": [
    "# Remove the \"₹\" symbol from 'discount_price'\n",
    "df['discount_price'] = df['discount_price'].str.replace('₹', '')\n",
    "\n",
    "# Print the first few rows of the 'discount_price' column after removal\n",
    "print(df['discount_price'].head())"
   ]
  },
  {
   "cell_type": "code",
   "execution_count": 14,
   "id": "5804e260",
   "metadata": {
    "execution": {
     "iopub.execute_input": "2024-03-09T17:28:24.891385Z",
     "iopub.status.busy": "2024-03-09T17:28:24.890724Z",
     "iopub.status.idle": "2024-03-09T17:28:24.902463Z",
     "shell.execute_reply": "2024-03-09T17:28:24.901777Z"
    },
    "papermill": {
     "duration": 0.023568,
     "end_time": "2024-03-09T17:28:24.904325",
     "exception": false,
     "start_time": "2024-03-09T17:28:24.880757",
     "status": "completed"
    },
    "tags": []
   },
   "outputs": [],
   "source": [
    "# Remove non-numeric characters\n",
    "df['discount_price'] = df['discount_price'].replace('[^0-9.]', '', regex=True)"
   ]
  },
  {
   "cell_type": "code",
   "execution_count": 15,
   "id": "c56c814d",
   "metadata": {
    "execution": {
     "iopub.execute_input": "2024-03-09T17:28:24.925497Z",
     "iopub.status.busy": "2024-03-09T17:28:24.924840Z",
     "iopub.status.idle": "2024-03-09T17:28:24.937633Z",
     "shell.execute_reply": "2024-03-09T17:28:24.936599Z"
    },
    "papermill": {
     "duration": 0.026367,
     "end_time": "2024-03-09T17:28:24.939715",
     "exception": false,
     "start_time": "2024-03-09T17:28:24.913348",
     "status": "completed"
    },
    "tags": []
   },
   "outputs": [
    {
     "name": "stdout",
     "output_type": "stream",
     "text": [
      "0    10999.0\n",
      "1    18999.0\n",
      "2     1999.0\n",
      "3    15999.0\n",
      "4    18999.0\n",
      "Name: discount_price, dtype: float64\n"
     ]
    }
   ],
   "source": [
    "df['discount_price'] = pd.to_numeric(df['discount_price'], errors='coerce')\n",
    "print(df['discount_price'].head())"
   ]
  },
  {
   "cell_type": "code",
   "execution_count": 16,
   "id": "4fc2183e",
   "metadata": {
    "execution": {
     "iopub.execute_input": "2024-03-09T17:28:24.959177Z",
     "iopub.status.busy": "2024-03-09T17:28:24.958559Z",
     "iopub.status.idle": "2024-03-09T17:28:24.966032Z",
     "shell.execute_reply": "2024-03-09T17:28:24.965162Z"
    },
    "papermill": {
     "duration": 0.019553,
     "end_time": "2024-03-09T17:28:24.968312",
     "exception": false,
     "start_time": "2024-03-09T17:28:24.948759",
     "status": "completed"
    },
    "tags": []
   },
   "outputs": [
    {
     "data": {
      "text/plain": [
       "0       10999.0\n",
       "1       18999.0\n",
       "2        1999.0\n",
       "3       15999.0\n",
       "4       18999.0\n",
       "         ...   \n",
       "9595     1710.0\n",
       "9596      475.0\n",
       "9597      962.0\n",
       "9598      400.0\n",
       "9599      940.0\n",
       "Name: discount_price, Length: 9600, dtype: float64"
      ]
     },
     "execution_count": 16,
     "metadata": {},
     "output_type": "execute_result"
    }
   ],
   "source": [
    "df['discount_price'].fillna(0)"
   ]
  },
  {
   "cell_type": "code",
   "execution_count": 17,
   "id": "8f0984b2",
   "metadata": {
    "execution": {
     "iopub.execute_input": "2024-03-09T17:28:24.987289Z",
     "iopub.status.busy": "2024-03-09T17:28:24.986990Z",
     "iopub.status.idle": "2024-03-09T17:28:24.992303Z",
     "shell.execute_reply": "2024-03-09T17:28:24.991598Z"
    },
    "papermill": {
     "duration": 0.017146,
     "end_time": "2024-03-09T17:28:24.994223",
     "exception": false,
     "start_time": "2024-03-09T17:28:24.977077",
     "status": "completed"
    },
    "tags": []
   },
   "outputs": [],
   "source": [
    "exchange_rate = 187.80\n",
    "\n",
    "# Convert 'actual_price' from INR to IDR\n",
    "df['discount_price_idr'] = df['discount_price'] * exchange_rate"
   ]
  },
  {
   "cell_type": "code",
   "execution_count": 18,
   "id": "b979ffcf",
   "metadata": {
    "execution": {
     "iopub.execute_input": "2024-03-09T17:28:25.013539Z",
     "iopub.status.busy": "2024-03-09T17:28:25.013218Z",
     "iopub.status.idle": "2024-03-09T17:28:25.019754Z",
     "shell.execute_reply": "2024-03-09T17:28:25.018687Z"
    },
    "papermill": {
     "duration": 0.018698,
     "end_time": "2024-03-09T17:28:25.021678",
     "exception": false,
     "start_time": "2024-03-09T17:28:25.002980",
     "status": "completed"
    },
    "tags": []
   },
   "outputs": [],
   "source": [
    "df.drop('discount_price', axis=1, inplace=True)"
   ]
  },
  {
   "cell_type": "code",
   "execution_count": 19,
   "id": "665fb9f2",
   "metadata": {
    "execution": {
     "iopub.execute_input": "2024-03-09T17:28:25.040916Z",
     "iopub.status.busy": "2024-03-09T17:28:25.040322Z",
     "iopub.status.idle": "2024-03-09T17:28:25.045402Z",
     "shell.execute_reply": "2024-03-09T17:28:25.044762Z"
    },
    "papermill": {
     "duration": 0.016925,
     "end_time": "2024-03-09T17:28:25.047320",
     "exception": false,
     "start_time": "2024-03-09T17:28:25.030395",
     "status": "completed"
    },
    "tags": []
   },
   "outputs": [],
   "source": [
    "# Round the 'actual_price_idr' column to the nearest whole number and replace NaN with 0\n",
    "df['discount_price_idr'] = df['discount_price_idr'].round(0).fillna(0).astype(int)"
   ]
  },
  {
   "cell_type": "code",
   "execution_count": 20,
   "id": "c5312a8c",
   "metadata": {
    "execution": {
     "iopub.execute_input": "2024-03-09T17:28:25.066699Z",
     "iopub.status.busy": "2024-03-09T17:28:25.066090Z",
     "iopub.status.idle": "2024-03-09T17:28:25.079255Z",
     "shell.execute_reply": "2024-03-09T17:28:25.078206Z"
    },
    "papermill": {
     "duration": 0.025165,
     "end_time": "2024-03-09T17:28:25.081279",
     "exception": false,
     "start_time": "2024-03-09T17:28:25.056114",
     "status": "completed"
    },
    "tags": []
   },
   "outputs": [
    {
     "data": {
      "text/html": [
       "<div>\n",
       "<style scoped>\n",
       "    .dataframe tbody tr th:only-of-type {\n",
       "        vertical-align: middle;\n",
       "    }\n",
       "\n",
       "    .dataframe tbody tr th {\n",
       "        vertical-align: top;\n",
       "    }\n",
       "\n",
       "    .dataframe thead th {\n",
       "        text-align: right;\n",
       "    }\n",
       "</style>\n",
       "<table border=\"1\" class=\"dataframe\">\n",
       "  <thead>\n",
       "    <tr style=\"text-align: right;\">\n",
       "      <th></th>\n",
       "      <th>Unnamed: 0</th>\n",
       "      <th>name</th>\n",
       "      <th>main_category</th>\n",
       "      <th>sub_category</th>\n",
       "      <th>image</th>\n",
       "      <th>link</th>\n",
       "      <th>ratings</th>\n",
       "      <th>no_of_ratings</th>\n",
       "      <th>actual_price_idr</th>\n",
       "      <th>discount_price_idr</th>\n",
       "    </tr>\n",
       "  </thead>\n",
       "  <tbody>\n",
       "    <tr>\n",
       "      <th>0</th>\n",
       "      <td>0</td>\n",
       "      <td>Redmi 10 Power (Power Black, 8GB RAM, 128GB St...</td>\n",
       "      <td>tv, audio &amp; cameras</td>\n",
       "      <td>All Electronics</td>\n",
       "      <td>https://m.media-amazon.com/images/I/81eM15lVcJ...</td>\n",
       "      <td>https://www.amazon.in/Redmi-Power-Black-128GB-...</td>\n",
       "      <td>4.0</td>\n",
       "      <td>965</td>\n",
       "      <td>3568012</td>\n",
       "      <td>2065612</td>\n",
       "    </tr>\n",
       "    <tr>\n",
       "      <th>1</th>\n",
       "      <td>1</td>\n",
       "      <td>OnePlus Nord CE 2 Lite 5G (Blue Tide, 6GB RAM,...</td>\n",
       "      <td>tv, audio &amp; cameras</td>\n",
       "      <td>All Electronics</td>\n",
       "      <td>https://m.media-amazon.com/images/I/71AvQd3Vzq...</td>\n",
       "      <td>https://www.amazon.in/OnePlus-Nord-Lite-128GB-...</td>\n",
       "      <td>4.3</td>\n",
       "      <td>113,956</td>\n",
       "      <td>3755812</td>\n",
       "      <td>3568012</td>\n",
       "    </tr>\n",
       "    <tr>\n",
       "      <th>2</th>\n",
       "      <td>2</td>\n",
       "      <td>OnePlus Bullets Z2 Bluetooth Wireless in Ear E...</td>\n",
       "      <td>tv, audio &amp; cameras</td>\n",
       "      <td>All Electronics</td>\n",
       "      <td>https://m.media-amazon.com/images/I/51UhwaQXCp...</td>\n",
       "      <td>https://www.amazon.in/Oneplus-Bluetooth-Wirele...</td>\n",
       "      <td>4.2</td>\n",
       "      <td>90,304</td>\n",
       "      <td>431752</td>\n",
       "      <td>375412</td>\n",
       "    </tr>\n",
       "    <tr>\n",
       "      <th>3</th>\n",
       "      <td>3</td>\n",
       "      <td>Samsung Galaxy M33 5G (Mystique Green, 6GB, 12...</td>\n",
       "      <td>tv, audio &amp; cameras</td>\n",
       "      <td>All Electronics</td>\n",
       "      <td>https://m.media-amazon.com/images/I/81I3w4J6yj...</td>\n",
       "      <td>https://www.amazon.in/Samsung-Mystique-Storage...</td>\n",
       "      <td>4.1</td>\n",
       "      <td>24,863</td>\n",
       "      <td>4694812</td>\n",
       "      <td>3004612</td>\n",
       "    </tr>\n",
       "    <tr>\n",
       "      <th>4</th>\n",
       "      <td>4</td>\n",
       "      <td>OnePlus Nord CE 2 Lite 5G (Black Dusk, 6GB RAM...</td>\n",
       "      <td>tv, audio &amp; cameras</td>\n",
       "      <td>All Electronics</td>\n",
       "      <td>https://m.media-amazon.com/images/I/71V--WZVUI...</td>\n",
       "      <td>https://www.amazon.in/OnePlus-Nord-Black-128GB...</td>\n",
       "      <td>4.3</td>\n",
       "      <td>113,956</td>\n",
       "      <td>3755812</td>\n",
       "      <td>3568012</td>\n",
       "    </tr>\n",
       "  </tbody>\n",
       "</table>\n",
       "</div>"
      ],
      "text/plain": [
       "   Unnamed: 0                                               name  \\\n",
       "0           0  Redmi 10 Power (Power Black, 8GB RAM, 128GB St...   \n",
       "1           1  OnePlus Nord CE 2 Lite 5G (Blue Tide, 6GB RAM,...   \n",
       "2           2  OnePlus Bullets Z2 Bluetooth Wireless in Ear E...   \n",
       "3           3  Samsung Galaxy M33 5G (Mystique Green, 6GB, 12...   \n",
       "4           4  OnePlus Nord CE 2 Lite 5G (Black Dusk, 6GB RAM...   \n",
       "\n",
       "         main_category     sub_category  \\\n",
       "0  tv, audio & cameras  All Electronics   \n",
       "1  tv, audio & cameras  All Electronics   \n",
       "2  tv, audio & cameras  All Electronics   \n",
       "3  tv, audio & cameras  All Electronics   \n",
       "4  tv, audio & cameras  All Electronics   \n",
       "\n",
       "                                               image  \\\n",
       "0  https://m.media-amazon.com/images/I/81eM15lVcJ...   \n",
       "1  https://m.media-amazon.com/images/I/71AvQd3Vzq...   \n",
       "2  https://m.media-amazon.com/images/I/51UhwaQXCp...   \n",
       "3  https://m.media-amazon.com/images/I/81I3w4J6yj...   \n",
       "4  https://m.media-amazon.com/images/I/71V--WZVUI...   \n",
       "\n",
       "                                                link ratings no_of_ratings  \\\n",
       "0  https://www.amazon.in/Redmi-Power-Black-128GB-...     4.0           965   \n",
       "1  https://www.amazon.in/OnePlus-Nord-Lite-128GB-...     4.3       113,956   \n",
       "2  https://www.amazon.in/Oneplus-Bluetooth-Wirele...     4.2        90,304   \n",
       "3  https://www.amazon.in/Samsung-Mystique-Storage...     4.1        24,863   \n",
       "4  https://www.amazon.in/OnePlus-Nord-Black-128GB...     4.3       113,956   \n",
       "\n",
       "   actual_price_idr  discount_price_idr  \n",
       "0           3568012             2065612  \n",
       "1           3755812             3568012  \n",
       "2            431752              375412  \n",
       "3           4694812             3004612  \n",
       "4           3755812             3568012  "
      ]
     },
     "execution_count": 20,
     "metadata": {},
     "output_type": "execute_result"
    }
   ],
   "source": [
    "df.head()"
   ]
  },
  {
   "cell_type": "code",
   "execution_count": 21,
   "id": "956293cd",
   "metadata": {
    "execution": {
     "iopub.execute_input": "2024-03-09T17:28:25.101479Z",
     "iopub.status.busy": "2024-03-09T17:28:25.100836Z",
     "iopub.status.idle": "2024-03-09T17:28:25.116352Z",
     "shell.execute_reply": "2024-03-09T17:28:25.115680Z"
    },
    "papermill": {
     "duration": 0.028006,
     "end_time": "2024-03-09T17:28:25.118478",
     "exception": false,
     "start_time": "2024-03-09T17:28:25.090472",
     "status": "completed"
    },
    "tags": []
   },
   "outputs": [],
   "source": [
    "# Convert 'ratings' to numeric\n",
    "df['ratings'] = pd.to_numeric(df['ratings'], errors='coerce')\n",
    "\n",
    "# Convert 'no_of_ratings' to numeric\n",
    "df['no_of_ratings'] = pd.to_numeric(df['no_of_ratings'], errors='coerce')"
   ]
  },
  {
   "cell_type": "code",
   "execution_count": 22,
   "id": "53020112",
   "metadata": {
    "execution": {
     "iopub.execute_input": "2024-03-09T17:28:25.138578Z",
     "iopub.status.busy": "2024-03-09T17:28:25.138266Z",
     "iopub.status.idle": "2024-03-09T17:28:25.147089Z",
     "shell.execute_reply": "2024-03-09T17:28:25.146208Z"
    },
    "papermill": {
     "duration": 0.021547,
     "end_time": "2024-03-09T17:28:25.149283",
     "exception": false,
     "start_time": "2024-03-09T17:28:25.127736",
     "status": "completed"
    },
    "tags": []
   },
   "outputs": [
    {
     "data": {
      "text/plain": [
       "0       965.0\n",
       "1         0.0\n",
       "2         0.0\n",
       "3         0.0\n",
       "4         0.0\n",
       "        ...  \n",
       "9595     37.0\n",
       "9596      0.0\n",
       "9597      0.0\n",
       "9598    210.0\n",
       "9599    938.0\n",
       "Name: no_of_ratings, Length: 9600, dtype: float64"
      ]
     },
     "execution_count": 22,
     "metadata": {},
     "output_type": "execute_result"
    }
   ],
   "source": [
    "# Fill NaN values with 0 in 'ratings' and 'no_of_ratings'\n",
    "df['ratings'].fillna(0)\n",
    "df['no_of_ratings'].fillna(0)"
   ]
  },
  {
   "cell_type": "code",
   "execution_count": 23,
   "id": "7d32c1a8",
   "metadata": {
    "execution": {
     "iopub.execute_input": "2024-03-09T17:28:25.169675Z",
     "iopub.status.busy": "2024-03-09T17:28:25.169342Z",
     "iopub.status.idle": "2024-03-09T17:28:25.182300Z",
     "shell.execute_reply": "2024-03-09T17:28:25.181064Z"
    },
    "papermill": {
     "duration": 0.025203,
     "end_time": "2024-03-09T17:28:25.184163",
     "exception": false,
     "start_time": "2024-03-09T17:28:25.158960",
     "status": "completed"
    },
    "tags": []
   },
   "outputs": [
    {
     "name": "stdout",
     "output_type": "stream",
     "text": [
      "<class 'pandas.core.frame.DataFrame'>\n",
      "RangeIndex: 9600 entries, 0 to 9599\n",
      "Data columns (total 10 columns):\n",
      " #   Column              Non-Null Count  Dtype  \n",
      "---  ------              --------------  -----  \n",
      " 0   Unnamed: 0          9600 non-null   int64  \n",
      " 1   name                9600 non-null   object \n",
      " 2   main_category       9600 non-null   object \n",
      " 3   sub_category        9600 non-null   object \n",
      " 4   image               9600 non-null   object \n",
      " 5   link                9600 non-null   object \n",
      " 6   ratings             9481 non-null   float64\n",
      " 7   no_of_ratings       4493 non-null   float64\n",
      " 8   actual_price_idr    9600 non-null   int64  \n",
      " 9   discount_price_idr  9600 non-null   int64  \n",
      "dtypes: float64(2), int64(3), object(5)\n",
      "memory usage: 750.1+ KB\n"
     ]
    }
   ],
   "source": [
    "df.info()"
   ]
  },
  {
   "cell_type": "code",
   "execution_count": 24,
   "id": "0a315e4e",
   "metadata": {
    "execution": {
     "iopub.execute_input": "2024-03-09T17:28:25.204618Z",
     "iopub.status.busy": "2024-03-09T17:28:25.204004Z",
     "iopub.status.idle": "2024-03-09T17:28:26.631314Z",
     "shell.execute_reply": "2024-03-09T17:28:26.630397Z"
    },
    "papermill": {
     "duration": 1.440495,
     "end_time": "2024-03-09T17:28:26.634119",
     "exception": false,
     "start_time": "2024-03-09T17:28:25.193624",
     "status": "completed"
    },
    "tags": []
   },
   "outputs": [],
   "source": [
    "from sklearn.model_selection import train_test_split, RandomizedSearchCV\n",
    "from sklearn.ensemble import RandomForestRegressor\n",
    "from sklearn.metrics import mean_squared_error\n",
    "\n",
    "# Selecting features and target variable\n",
    "features = ['discount_price_idr', 'actual_price_idr', 'no_of_ratings']\n",
    "target = 'ratings'"
   ]
  },
  {
   "cell_type": "code",
   "execution_count": 25,
   "id": "076be103",
   "metadata": {
    "execution": {
     "iopub.execute_input": "2024-03-09T17:28:26.655879Z",
     "iopub.status.busy": "2024-03-09T17:28:26.655503Z",
     "iopub.status.idle": "2024-03-09T17:28:26.668750Z",
     "shell.execute_reply": "2024-03-09T17:28:26.667666Z"
    },
    "papermill": {
     "duration": 0.027258,
     "end_time": "2024-03-09T17:28:26.671097",
     "exception": false,
     "start_time": "2024-03-09T17:28:26.643839",
     "status": "completed"
    },
    "tags": []
   },
   "outputs": [],
   "source": [
    "# Dropping rows with NaN values in the selected features and target\n",
    "df.dropna(subset=features + [target], inplace=True)\n",
    "\n",
    "# Splitting the dataset into training and testing sets\n",
    "X_train, X_test, y_train, y_test = train_test_split(df[features], df[target], test_size=0.2, random_state=42)\n"
   ]
  },
  {
   "cell_type": "code",
   "execution_count": 26,
   "id": "c0ad16f5",
   "metadata": {
    "execution": {
     "iopub.execute_input": "2024-03-09T17:28:26.691964Z",
     "iopub.status.busy": "2024-03-09T17:28:26.691322Z",
     "iopub.status.idle": "2024-03-09T17:28:26.695483Z",
     "shell.execute_reply": "2024-03-09T17:28:26.694847Z"
    },
    "papermill": {
     "duration": 0.016763,
     "end_time": "2024-03-09T17:28:26.697427",
     "exception": false,
     "start_time": "2024-03-09T17:28:26.680664",
     "status": "completed"
    },
    "tags": []
   },
   "outputs": [],
   "source": [
    "# Random Forest model\n",
    "rf_model = RandomForestRegressor()"
   ]
  },
  {
   "cell_type": "code",
   "execution_count": 27,
   "id": "6ccfa13a",
   "metadata": {
    "execution": {
     "iopub.execute_input": "2024-03-09T17:28:26.717588Z",
     "iopub.status.busy": "2024-03-09T17:28:26.717253Z",
     "iopub.status.idle": "2024-03-09T17:28:26.722144Z",
     "shell.execute_reply": "2024-03-09T17:28:26.721080Z"
    },
    "papermill": {
     "duration": 0.017377,
     "end_time": "2024-03-09T17:28:26.724160",
     "exception": false,
     "start_time": "2024-03-09T17:28:26.706783",
     "status": "completed"
    },
    "tags": []
   },
   "outputs": [],
   "source": [
    "# Define hyperparameters for tuning\n",
    "param_dist = {\n",
    "    'n_estimators': [50, 100, 150, 200],\n",
    "    'max_depth': [None, 10, 20, 30, 40, 50],\n",
    "    'min_samples_split': [2, 5, 10],\n",
    "    'min_samples_leaf': [1, 2, 4]\n",
    "}"
   ]
  },
  {
   "cell_type": "code",
   "execution_count": 28,
   "id": "eb04d33a",
   "metadata": {
    "execution": {
     "iopub.execute_input": "2024-03-09T17:28:26.744665Z",
     "iopub.status.busy": "2024-03-09T17:28:26.744022Z",
     "iopub.status.idle": "2024-03-09T17:28:49.826766Z",
     "shell.execute_reply": "2024-03-09T17:28:49.825545Z"
    },
    "papermill": {
     "duration": 23.09553,
     "end_time": "2024-03-09T17:28:49.829015",
     "exception": false,
     "start_time": "2024-03-09T17:28:26.733485",
     "status": "completed"
    },
    "tags": []
   },
   "outputs": [
    {
     "data": {
      "text/html": [
       "<style>#sk-container-id-1 {color: black;background-color: white;}#sk-container-id-1 pre{padding: 0;}#sk-container-id-1 div.sk-toggleable {background-color: white;}#sk-container-id-1 label.sk-toggleable__label {cursor: pointer;display: block;width: 100%;margin-bottom: 0;padding: 0.3em;box-sizing: border-box;text-align: center;}#sk-container-id-1 label.sk-toggleable__label-arrow:before {content: \"▸\";float: left;margin-right: 0.25em;color: #696969;}#sk-container-id-1 label.sk-toggleable__label-arrow:hover:before {color: black;}#sk-container-id-1 div.sk-estimator:hover label.sk-toggleable__label-arrow:before {color: black;}#sk-container-id-1 div.sk-toggleable__content {max-height: 0;max-width: 0;overflow: hidden;text-align: left;background-color: #f0f8ff;}#sk-container-id-1 div.sk-toggleable__content pre {margin: 0.2em;color: black;border-radius: 0.25em;background-color: #f0f8ff;}#sk-container-id-1 input.sk-toggleable__control:checked~div.sk-toggleable__content {max-height: 200px;max-width: 100%;overflow: auto;}#sk-container-id-1 input.sk-toggleable__control:checked~label.sk-toggleable__label-arrow:before {content: \"▾\";}#sk-container-id-1 div.sk-estimator input.sk-toggleable__control:checked~label.sk-toggleable__label {background-color: #d4ebff;}#sk-container-id-1 div.sk-label input.sk-toggleable__control:checked~label.sk-toggleable__label {background-color: #d4ebff;}#sk-container-id-1 input.sk-hidden--visually {border: 0;clip: rect(1px 1px 1px 1px);clip: rect(1px, 1px, 1px, 1px);height: 1px;margin: -1px;overflow: hidden;padding: 0;position: absolute;width: 1px;}#sk-container-id-1 div.sk-estimator {font-family: monospace;background-color: #f0f8ff;border: 1px dotted black;border-radius: 0.25em;box-sizing: border-box;margin-bottom: 0.5em;}#sk-container-id-1 div.sk-estimator:hover {background-color: #d4ebff;}#sk-container-id-1 div.sk-parallel-item::after {content: \"\";width: 100%;border-bottom: 1px solid gray;flex-grow: 1;}#sk-container-id-1 div.sk-label:hover label.sk-toggleable__label {background-color: #d4ebff;}#sk-container-id-1 div.sk-serial::before {content: \"\";position: absolute;border-left: 1px solid gray;box-sizing: border-box;top: 0;bottom: 0;left: 50%;z-index: 0;}#sk-container-id-1 div.sk-serial {display: flex;flex-direction: column;align-items: center;background-color: white;padding-right: 0.2em;padding-left: 0.2em;position: relative;}#sk-container-id-1 div.sk-item {position: relative;z-index: 1;}#sk-container-id-1 div.sk-parallel {display: flex;align-items: stretch;justify-content: center;background-color: white;position: relative;}#sk-container-id-1 div.sk-item::before, #sk-container-id-1 div.sk-parallel-item::before {content: \"\";position: absolute;border-left: 1px solid gray;box-sizing: border-box;top: 0;bottom: 0;left: 50%;z-index: -1;}#sk-container-id-1 div.sk-parallel-item {display: flex;flex-direction: column;z-index: 1;position: relative;background-color: white;}#sk-container-id-1 div.sk-parallel-item:first-child::after {align-self: flex-end;width: 50%;}#sk-container-id-1 div.sk-parallel-item:last-child::after {align-self: flex-start;width: 50%;}#sk-container-id-1 div.sk-parallel-item:only-child::after {width: 0;}#sk-container-id-1 div.sk-dashed-wrapped {border: 1px dashed gray;margin: 0 0.4em 0.5em 0.4em;box-sizing: border-box;padding-bottom: 0.4em;background-color: white;}#sk-container-id-1 div.sk-label label {font-family: monospace;font-weight: bold;display: inline-block;line-height: 1.2em;}#sk-container-id-1 div.sk-label-container {text-align: center;}#sk-container-id-1 div.sk-container {/* jupyter's `normalize.less` sets `[hidden] { display: none; }` but bootstrap.min.css set `[hidden] { display: none !important; }` so we also need the `!important` here to be able to override the default hidden behavior on the sphinx rendered scikit-learn.org. See: https://github.com/scikit-learn/scikit-learn/issues/21755 */display: inline-block !important;position: relative;}#sk-container-id-1 div.sk-text-repr-fallback {display: none;}</style><div id=\"sk-container-id-1\" class=\"sk-top-container\"><div class=\"sk-text-repr-fallback\"><pre>RandomizedSearchCV(cv=5, estimator=RandomForestRegressor(), n_jobs=-1,\n",
       "                   param_distributions={&#x27;max_depth&#x27;: [None, 10, 20, 30, 40, 50],\n",
       "                                        &#x27;min_samples_leaf&#x27;: [1, 2, 4],\n",
       "                                        &#x27;min_samples_split&#x27;: [2, 5, 10],\n",
       "                                        &#x27;n_estimators&#x27;: [50, 100, 150, 200]},\n",
       "                   random_state=42, scoring=&#x27;neg_mean_squared_error&#x27;)</pre><b>In a Jupyter environment, please rerun this cell to show the HTML representation or trust the notebook. <br />On GitHub, the HTML representation is unable to render, please try loading this page with nbviewer.org.</b></div><div class=\"sk-container\" hidden><div class=\"sk-item sk-dashed-wrapped\"><div class=\"sk-label-container\"><div class=\"sk-label sk-toggleable\"><input class=\"sk-toggleable__control sk-hidden--visually\" id=\"sk-estimator-id-1\" type=\"checkbox\" ><label for=\"sk-estimator-id-1\" class=\"sk-toggleable__label sk-toggleable__label-arrow\">RandomizedSearchCV</label><div class=\"sk-toggleable__content\"><pre>RandomizedSearchCV(cv=5, estimator=RandomForestRegressor(), n_jobs=-1,\n",
       "                   param_distributions={&#x27;max_depth&#x27;: [None, 10, 20, 30, 40, 50],\n",
       "                                        &#x27;min_samples_leaf&#x27;: [1, 2, 4],\n",
       "                                        &#x27;min_samples_split&#x27;: [2, 5, 10],\n",
       "                                        &#x27;n_estimators&#x27;: [50, 100, 150, 200]},\n",
       "                   random_state=42, scoring=&#x27;neg_mean_squared_error&#x27;)</pre></div></div></div><div class=\"sk-parallel\"><div class=\"sk-parallel-item\"><div class=\"sk-item\"><div class=\"sk-label-container\"><div class=\"sk-label sk-toggleable\"><input class=\"sk-toggleable__control sk-hidden--visually\" id=\"sk-estimator-id-2\" type=\"checkbox\" ><label for=\"sk-estimator-id-2\" class=\"sk-toggleable__label sk-toggleable__label-arrow\">estimator: RandomForestRegressor</label><div class=\"sk-toggleable__content\"><pre>RandomForestRegressor()</pre></div></div></div><div class=\"sk-serial\"><div class=\"sk-item\"><div class=\"sk-estimator sk-toggleable\"><input class=\"sk-toggleable__control sk-hidden--visually\" id=\"sk-estimator-id-3\" type=\"checkbox\" ><label for=\"sk-estimator-id-3\" class=\"sk-toggleable__label sk-toggleable__label-arrow\">RandomForestRegressor</label><div class=\"sk-toggleable__content\"><pre>RandomForestRegressor()</pre></div></div></div></div></div></div></div></div></div></div>"
      ],
      "text/plain": [
       "RandomizedSearchCV(cv=5, estimator=RandomForestRegressor(), n_jobs=-1,\n",
       "                   param_distributions={'max_depth': [None, 10, 20, 30, 40, 50],\n",
       "                                        'min_samples_leaf': [1, 2, 4],\n",
       "                                        'min_samples_split': [2, 5, 10],\n",
       "                                        'n_estimators': [50, 100, 150, 200]},\n",
       "                   random_state=42, scoring='neg_mean_squared_error')"
      ]
     },
     "execution_count": 28,
     "metadata": {},
     "output_type": "execute_result"
    }
   ],
   "source": [
    "# RandomizedSearchCV for hyperparameter tuning\n",
    "rf_random = RandomizedSearchCV(rf_model, param_distributions=param_dist, n_iter=10, cv=5, random_state=42, scoring='neg_mean_squared_error', n_jobs=-1)\n",
    "rf_random.fit(X_train, y_train)"
   ]
  },
  {
   "cell_type": "code",
   "execution_count": 29,
   "id": "2bcac2c0",
   "metadata": {
    "execution": {
     "iopub.execute_input": "2024-03-09T17:28:49.850200Z",
     "iopub.status.busy": "2024-03-09T17:28:49.849860Z",
     "iopub.status.idle": "2024-03-09T17:28:49.855320Z",
     "shell.execute_reply": "2024-03-09T17:28:49.854407Z"
    },
    "papermill": {
     "duration": 0.019082,
     "end_time": "2024-03-09T17:28:49.858002",
     "exception": false,
     "start_time": "2024-03-09T17:28:49.838920",
     "status": "completed"
    },
    "tags": []
   },
   "outputs": [
    {
     "name": "stdout",
     "output_type": "stream",
     "text": [
      "Best Hyperparameters: {'n_estimators': 100, 'min_samples_split': 10, 'min_samples_leaf': 4, 'max_depth': 40}\n"
     ]
    }
   ],
   "source": [
    "# Best hyperparameters\n",
    "best_params = rf_random.best_params_\n",
    "print(\"Best Hyperparameters:\", best_params)"
   ]
  },
  {
   "cell_type": "code",
   "execution_count": 30,
   "id": "7e5e61e8",
   "metadata": {
    "execution": {
     "iopub.execute_input": "2024-03-09T17:28:49.879292Z",
     "iopub.status.busy": "2024-03-09T17:28:49.878960Z",
     "iopub.status.idle": "2024-03-09T17:28:49.882765Z",
     "shell.execute_reply": "2024-03-09T17:28:49.881976Z"
    },
    "papermill": {
     "duration": 0.01688,
     "end_time": "2024-03-09T17:28:49.884764",
     "exception": false,
     "start_time": "2024-03-09T17:28:49.867884",
     "status": "completed"
    },
    "tags": []
   },
   "outputs": [],
   "source": [
    "# Use the best model\n",
    "best_rf_model = rf_random.best_estimator_"
   ]
  },
  {
   "cell_type": "code",
   "execution_count": 31,
   "id": "f843288b",
   "metadata": {
    "execution": {
     "iopub.execute_input": "2024-03-09T17:28:49.906925Z",
     "iopub.status.busy": "2024-03-09T17:28:49.906592Z",
     "iopub.status.idle": "2024-03-09T17:28:49.927514Z",
     "shell.execute_reply": "2024-03-09T17:28:49.926751Z"
    },
    "papermill": {
     "duration": 0.034367,
     "end_time": "2024-03-09T17:28:49.929623",
     "exception": false,
     "start_time": "2024-03-09T17:28:49.895256",
     "status": "completed"
    },
    "tags": []
   },
   "outputs": [],
   "source": [
    "# Predictions on the test set\n",
    "y_pred = best_rf_model.predict(X_test)"
   ]
  },
  {
   "cell_type": "code",
   "execution_count": 32,
   "id": "cac4d194",
   "metadata": {
    "execution": {
     "iopub.execute_input": "2024-03-09T17:28:49.950385Z",
     "iopub.status.busy": "2024-03-09T17:28:49.950076Z",
     "iopub.status.idle": "2024-03-09T17:28:49.955371Z",
     "shell.execute_reply": "2024-03-09T17:28:49.954498Z"
    },
    "papermill": {
     "duration": 0.018143,
     "end_time": "2024-03-09T17:28:49.957587",
     "exception": false,
     "start_time": "2024-03-09T17:28:49.939444",
     "status": "completed"
    },
    "tags": []
   },
   "outputs": [
    {
     "name": "stdout",
     "output_type": "stream",
     "text": [
      "Mean Squared Error on Test Set: 0.20539824014662278\n"
     ]
    }
   ],
   "source": [
    "# Evaluate the model\n",
    "mse = mean_squared_error(y_test, y_pred)\n",
    "print(\"Mean Squared Error on Test Set:\", mse)"
   ]
  },
  {
   "cell_type": "code",
   "execution_count": 33,
   "id": "8e26cce4",
   "metadata": {
    "execution": {
     "iopub.execute_input": "2024-03-09T17:28:49.978239Z",
     "iopub.status.busy": "2024-03-09T17:28:49.977937Z",
     "iopub.status.idle": "2024-03-09T17:28:49.982636Z",
     "shell.execute_reply": "2024-03-09T17:28:49.981631Z"
    },
    "papermill": {
     "duration": 0.01745,
     "end_time": "2024-03-09T17:28:49.984685",
     "exception": false,
     "start_time": "2024-03-09T17:28:49.967235",
     "status": "completed"
    },
    "tags": []
   },
   "outputs": [
    {
     "name": "stdout",
     "output_type": "stream",
     "text": [
      "Root Mean Squared Error (RMSE): 0.45320882620114844\n"
     ]
    }
   ],
   "source": [
    "import numpy as np\n",
    "# Calculate Root Mean Squared Error (RMSE)\n",
    "rmse = np.sqrt(mse)\n",
    "\n",
    "print(\"Root Mean Squared Error (RMSE):\", rmse)"
   ]
  },
  {
   "cell_type": "markdown",
   "id": "7971ccab",
   "metadata": {
    "papermill": {
     "duration": 0.009415,
     "end_time": "2024-03-09T17:28:50.003784",
     "exception": false,
     "start_time": "2024-03-09T17:28:49.994369",
     "status": "completed"
    },
    "tags": []
   },
   "source": [
    "# **Test The Model With Random Data Input**"
   ]
  },
  {
   "cell_type": "code",
   "execution_count": 34,
   "id": "44524619",
   "metadata": {
    "execution": {
     "iopub.execute_input": "2024-03-09T17:28:50.027823Z",
     "iopub.status.busy": "2024-03-09T17:28:50.026720Z",
     "iopub.status.idle": "2024-03-09T17:28:50.046342Z",
     "shell.execute_reply": "2024-03-09T17:28:50.045306Z"
    },
    "papermill": {
     "duration": 0.036737,
     "end_time": "2024-03-09T17:28:50.050553",
     "exception": false,
     "start_time": "2024-03-09T17:28:50.013816",
     "status": "completed"
    },
    "tags": []
   },
   "outputs": [
    {
     "name": "stdout",
     "output_type": "stream",
     "text": [
      "Random Data for Testing:\n",
      "   discount_price_idr  actual_price_idr  no_of_ratings\n",
      "0           91.250054         26.896502            502\n",
      "1           31.675347         81.311870            295\n",
      "2           89.362731         90.593488            290\n",
      "3           72.539430        100.278751            156\n",
      "4           94.618333         57.721973            855\n",
      "5           91.992755         90.612029            848\n",
      "6           61.820745         77.516716            383\n",
      "7           93.375111         24.799970            365\n",
      "8           74.094659        107.028554            659\n",
      "9           88.126869         46.750935            415\n",
      "\n",
      "Predicted Ratings:\n",
      "[3.95354724 3.96052758 3.96684702 3.94956004 3.95492363 3.95927363\n",
      " 3.93948169 3.93948169 3.9506147  3.95021153]\n"
     ]
    }
   ],
   "source": [
    "# Generate random data for testing\n",
    "num_samples = 10  # Adjust the number of samples as needed\n",
    "\n",
    "# Creating random data similar to your training data\n",
    "random_data = pd.DataFrame({\n",
    "    'discount_price_idr': np.random.uniform(10, 100, num_samples),\n",
    "    'actual_price_idr': np.random.uniform(20, 120, num_samples),\n",
    "    'no_of_ratings': np.random.randint(0, 1000, num_samples)\n",
    "})\n",
    "\n",
    "# Make predictions on the random data\n",
    "predictions_random_data = best_rf_model.predict(random_data)\n",
    "\n",
    "# Display the random data and predictions\n",
    "print(\"Random Data for Testing:\")\n",
    "print(random_data)\n",
    "print(\"\\nPredicted Ratings:\")\n",
    "print(predictions_random_data)"
   ]
  }
 ],
 "metadata": {
  "kaggle": {
   "accelerator": "none",
   "dataSources": [
    {
     "datasetId": 4522182,
     "sourceId": 7737549,
     "sourceType": "datasetVersion"
    }
   ],
   "dockerImageVersionId": 30664,
   "isGpuEnabled": false,
   "isInternetEnabled": true,
   "language": "python",
   "sourceType": "notebook"
  },
  "kernelspec": {
   "display_name": "Python 3",
   "language": "python",
   "name": "python3"
  },
  "language_info": {
   "codemirror_mode": {
    "name": "ipython",
    "version": 3
   },
   "file_extension": ".py",
   "mimetype": "text/x-python",
   "name": "python",
   "nbconvert_exporter": "python",
   "pygments_lexer": "ipython3",
   "version": "3.10.13"
  },
  "papermill": {
   "default_parameters": {},
   "duration": 31.606079,
   "end_time": "2024-03-09T17:28:52.684178",
   "environment_variables": {},
   "exception": null,
   "input_path": "__notebook__.ipynb",
   "output_path": "__notebook__.ipynb",
   "parameters": {},
   "start_time": "2024-03-09T17:28:21.078099",
   "version": "2.5.0"
  }
 },
 "nbformat": 4,
 "nbformat_minor": 5
}
